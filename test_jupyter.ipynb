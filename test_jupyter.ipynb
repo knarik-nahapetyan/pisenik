{
 "cells": [
  {
   "cell_type": "code",
   "execution_count": 3,
   "id": "narrow-logistics",
   "metadata": {},
   "outputs": [],
   "source": [
    "import requests \n",
    "r = requests.get('https://www.veepee.fr/authentication/portal/FR?CountryCode=FR')\n"
   ]
  },
  {
   "cell_type": "code",
   "execution_count": 4,
   "id": "continent-front",
   "metadata": {},
   "outputs": [
    {
     "data": {
      "text/plain": [
       "403"
      ]
     },
     "execution_count": 4,
     "metadata": {},
     "output_type": "execute_result"
    }
   ],
   "source": [
    "r.status_code"
   ]
  },
  {
   "cell_type": "code",
   "execution_count": null,
   "id": "muslim-yukon",
   "metadata": {},
   "outputs": [],
   "source": []
  }
 ],
 "metadata": {
  "kernelspec": {
   "display_name": "Python 3",
   "language": "python",
   "name": "python3"
  },
  "language_info": {
   "codemirror_mode": {
    "name": "ipython",
    "version": 3
   },
   "file_extension": ".py",
   "mimetype": "text/x-python",
   "name": "python",
   "nbconvert_exporter": "python",
   "pygments_lexer": "ipython3",
   "version": "3.9.2"
  }
 },
 "nbformat": 4,
 "nbformat_minor": 5
}
